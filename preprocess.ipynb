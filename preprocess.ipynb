{
  "nbformat": 4,
  "nbformat_minor": 0,
  "metadata": {
    "colab": {
      "provenance": [],
      "authorship_tag": "ABX9TyOQuwBcq7ytOQ2zcm69mrdc",
      "include_colab_link": true
    },
    "kernelspec": {
      "name": "python3",
      "display_name": "Python 3"
    },
    "language_info": {
      "name": "python"
    }
  },
  "cells": [
    {
      "cell_type": "markdown",
      "metadata": {
        "id": "view-in-github",
        "colab_type": "text"
      },
      "source": [
        "<a href=\"https://colab.research.google.com/github/Nimeesha02/Twitter-Data/blob/master/preprocess.ipynb\" target=\"_parent\"><img src=\"https://colab.research.google.com/assets/colab-badge.svg\" alt=\"Open In Colab\"/></a>"
      ]
    },
    {
      "cell_type": "code",
      "execution_count": 60,
      "metadata": {
        "id": "8_jDo8JK6cVM"
      },
      "outputs": [],
      "source": [
        "import pandas as pd\n",
        "import re\n",
        "import nltk\n",
        "from nltk.corpus import stopwords\n",
        "from nltk.tokenize import word_tokenize"
      ]
    },
    {
      "cell_type": "code",
      "source": [
        "nltk.download('stopwords')\n",
        "nltk.download('punkt')\n",
        "stop_words = set(stopwords.words('english'))"
      ],
      "metadata": {
        "colab": {
          "base_uri": "https://localhost:8080/"
        },
        "id": "1b0Uittw6kaS",
        "outputId": "ce2ff236-f209-4531-943c-478de53a6236"
      },
      "execution_count": 67,
      "outputs": [
        {
          "output_type": "stream",
          "name": "stderr",
          "text": [
            "[nltk_data] Downloading package stopwords to /root/nltk_data...\n",
            "[nltk_data]   Package stopwords is already up-to-date!\n",
            "[nltk_data] Downloading package punkt to /root/nltk_data...\n",
            "[nltk_data]   Package punkt is already up-to-date!\n"
          ]
        }
      ]
    },
    {
      "cell_type": "code",
      "source": [
        "file_path = \"/content/tweets.csv\"\n",
        "tweet_list_df = pd.read_csv(file_path, encoding='utf-8')"
      ],
      "metadata": {
        "id": "JDLwNTg76s9Z"
      },
      "execution_count": 68,
      "outputs": []
    },
    {
      "cell_type": "code",
      "source": [
        "print(tweet_list_df.head(5))"
      ],
      "metadata": {
        "colab": {
          "base_uri": "https://localhost:8080/"
        },
        "id": "TBPiXyxh60oI",
        "outputId": "093d86bf-c932-44a7-f55b-9d30cf975b22"
      },
      "execution_count": 69,
      "outputs": [
        {
          "output_type": "stream",
          "name": "stdout",
          "text": [
            "                 Username                                               Text  \\\n",
            "0          Next Big Stock  India's leading agri-commodity exchange, NCDEX...   \n",
            "1  Colombo Stock Exchange  👉Catch up with the latest developments in Sri ...   \n",
            "2  Happy Belly Food Group  Happy Belly Appoints Former #FatBurger Vice Pr...   \n",
            "3             Navya Akula  🚀The Colombo Stock Exchange(#CSE) partners wit...   \n",
            "4  Colombo Stock Exchange  The \"Ignite Growth\" Economic Conference brings...   \n",
            "\n",
            "                       Created At  Retweets  Likes  \n",
            "0  Sat Jan 18 11:55:35 +0000 2025         0      1  \n",
            "1  Fri Jan 10 03:59:31 +0000 2025         1      2  \n",
            "2  Tue Jan 07 20:21:22 +0000 2025         3     22  \n",
            "3  Fri Jan 17 08:10:10 +0000 2025         0      0  \n",
            "4  Fri Feb 14 08:23:33 +0000 2025         1      4  \n"
          ]
        }
      ]
    },
    {
      "cell_type": "code",
      "source": [
        "def preprocess_tweet(sen):\n",
        "    '''Cleans text data, keeping non-English words, emojis, and symbols, removing only English stopwords, followed by tokenization'''\n",
        "    sentence = sen.lower()\n",
        "    sentence = re.sub('RT @\\w+: ', \" \", sentence)  # Remove RT\n",
        "    sentence = re.sub(\"(@[A-Za-z0-9]+)|([^0-9A-Za-z \\t\\u00C0-\\u017F])|(\\w+:\\/\\/\\S+)\", \" \", sentence)  # Remove special characters except non-ASCII\n",
        "    sentence = re.sub(r\"\\s+[a-zA-Z]\\s+\", ' ', sentence)  # Remove single characters\n",
        "    sentence = re.sub(r'\\s+', ' ', sentence).strip()  # Remove multiple spaces\n",
        "\n",
        "    # Tokenization\n",
        "    tokens = word_tokenize(sentence)\n",
        "\n",
        "    # Remove stopwords\n",
        "    filtered_tokens = [word for word in tokens if word not in stop_words]\n",
        "\n",
        "    return \" \".join(filtered_tokens)\n"
      ],
      "metadata": {
        "id": "QbAlpnEv7EjJ"
      },
      "execution_count": 70,
      "outputs": []
    },
    {
      "cell_type": "code",
      "source": [
        "tweet_list_df['cleaned'] = tweet_list_df['Text'].astype(str).apply(preprocess_tweet)"
      ],
      "metadata": {
        "id": "kZCe9L4e7OJQ"
      },
      "execution_count": 71,
      "outputs": []
    },
    {
      "cell_type": "code",
      "source": [
        "print(tweet_list_df[['Text', 'cleaned']].head(5))"
      ],
      "metadata": {
        "colab": {
          "base_uri": "https://localhost:8080/"
        },
        "id": "dz7fSO_i7QFJ",
        "outputId": "3651433b-25f4-4691-90a6-fe3271302b02"
      },
      "execution_count": 72,
      "outputs": [
        {
          "output_type": "stream",
          "name": "stdout",
          "text": [
            "                                                Text  \\\n",
            "0  India's leading agri-commodity exchange, NCDEX...   \n",
            "1  👉Catch up with the latest developments in Sri ...   \n",
            "2  Happy Belly Appoints Former #FatBurger Vice Pr...   \n",
            "3  🚀The Colombo Stock Exchange(#CSE) partners wit...   \n",
            "4  The \"Ignite Growth\" Economic Conference brings...   \n",
            "\n",
            "                                             cleaned  \n",
            "0  india leading agri commodity exchange ncdex si...  \n",
            "1  catch latest developments sri lanka sri lanka ...  \n",
            "2  happy belly appoints former fatburger vice pre...  \n",
            "3  colombo stock exchange cse partners ncdex boos...  \n",
            "4  ignite growth economic conference brings toget...  \n"
          ]
        }
      ]
    }
  ]
}